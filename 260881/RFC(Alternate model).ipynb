{
 "cells": [
  {
   "cell_type": "code",
   "execution_count": 99,
   "id": "d90a78fc",
   "metadata": {},
   "outputs": [],
   "source": [
    "#importing the necessary libraries.\n",
    "\n",
    "import pandas as pd\n",
    "import numpy as np\n",
    "from sklearn.model_selection import train_test_split\n",
    "from sklearn.preprocessing import StandardScaler\n",
    "from sklearn.metrics import accuracy_score, confusion_matrix\n",
    "from sklearn.ensemble import RandomForestClassifier\n",
    "import seaborn as sns\n",
    "import matplotlib.pyplot as plt\n",
    "from sklearn.metrics import classification_report\n",
    "from sklearn.metrics import precision_score, recall_score, f1_score\n",
    "from sklearn.model_selection import train_test_split, GridSearchCV\n",
    "import joblib"
   ]
  },
  {
   "cell_type": "code",
   "execution_count": 100,
   "id": "f31da2b0",
   "metadata": {},
   "outputs": [],
   "source": [
    "#loading the dataset.\n",
    "\n",
    "df = pd.read_excel(\"C:\\\\Users\\\\User\\\\Downloads\\\\DryBeanDataset\\\\Dry_Bean_Dataset.xlsx\")\n"
   ]
  },
  {
   "cell_type": "code",
   "execution_count": 101,
   "id": "2e0679ab",
   "metadata": {},
   "outputs": [],
   "source": [
    "# The Conversion of a category variable to a numerical variable.\n",
    "\n",
    "class_map = {'BARBUNYA': 0, 'BOMBAY': 1, 'CALI': 2, 'DERMASON': 3, 'HOROZ': 4, 'SEKER': 5, 'SIRA': 6}\n",
    "df['Class'] = df['Class'].map(class_map)\n",
    "\n",
    "# Distinguish between features and the target variable.\n",
    "\n",
    "X = df.drop(['Class'], axis=1)\n",
    "y = df['Class']\n",
    "\n"
   ]
  },
  {
   "cell_type": "code",
   "execution_count": 102,
   "id": "6b0c99e0",
   "metadata": {},
   "outputs": [],
   "source": [
    "# Divide the dataset into training and testing sets.\n",
    "\n",
    "X_train, X_test, y_train, y_test = train_test_split(X, y, test_size=0.2, random_state=42)\n"
   ]
  },
  {
   "cell_type": "code",
   "execution_count": 103,
   "id": "ee515d2d",
   "metadata": {},
   "outputs": [],
   "source": [
    "#  Specify the hyperparameters that should be tuned.\n",
    "\n",
    "param_grid = {\n",
    "    'n_estimators': [50, 100, 200],\n",
    "    'max_depth': [10, 15, 30],\n",
    "    'min_samples_split': [2, 4, 8],\n",
    "    'min_samples_leaf': [1, 3, 7]\n",
    "}"
   ]
  },
  {
   "cell_type": "code",
   "execution_count": 104,
   "id": "25cc3669",
   "metadata": {},
   "outputs": [],
   "source": [
    "#  Build a Random Forest classifier.\n",
    "\n",
    "rfc = RandomForestClassifier(n_estimators=75, random_state=42)\n"
   ]
  },
  {
   "cell_type": "code",
   "execution_count": 105,
   "id": "693a02d1",
   "metadata": {},
   "outputs": [
    {
     "data": {
      "text/plain": [
       "GridSearchCV(cv=5,\n",
       "             estimator=RandomForestClassifier(n_estimators=75, random_state=42),\n",
       "             param_grid={'max_depth': [10, 15, 30],\n",
       "                         'min_samples_leaf': [1, 3, 7],\n",
       "                         'min_samples_split': [2, 4, 8],\n",
       "                         'n_estimators': [50, 100, 200]})"
      ]
     },
     "execution_count": 105,
     "metadata": {},
     "output_type": "execute_result"
    }
   ],
   "source": [
    "# GridSearchCV should be used to discover the optimal hyperparameters. \n",
    "\n",
    "grid_search = GridSearchCV(rfc, param_grid=param_grid, cv=5)\n",
    "grid_search.fit(X_train, y_train)"
   ]
  },
  {
   "cell_type": "code",
   "execution_count": 106,
   "id": "b81a29e8",
   "metadata": {},
   "outputs": [
    {
     "name": "stdout",
     "output_type": "stream",
     "text": [
      "Best Hyperparameters: {'max_depth': 15, 'min_samples_leaf': 1, 'min_samples_split': 8, 'n_estimators': 200}\n"
     ]
    }
   ],
   "source": [
    "# The best hyperparameters will be printed. \n",
    "\n",
    "print(\"Best Hyperparameters:\", grid_search.best_params_)"
   ]
  },
  {
   "cell_type": "code",
   "execution_count": 107,
   "id": "0e5b0604",
   "metadata": {},
   "outputs": [
    {
     "data": {
      "text/plain": [
       "RandomForestClassifier(max_depth=15, min_samples_split=8, n_estimators=200,\n",
       "                       random_state=42)"
      ]
     },
     "execution_count": 107,
     "metadata": {},
     "output_type": "execute_result"
    }
   ],
   "source": [
    "# Use the optimum hyperparameters to train the random forest model.\n",
    "\n",
    "rfc = RandomForestClassifier(random_state=42, **grid_search.best_params_)\n",
    "rfc.fit(X_train, y_train)"
   ]
  },
  {
   "cell_type": "code",
   "execution_count": 108,
   "id": "6296966e",
   "metadata": {},
   "outputs": [],
   "source": [
    "# Predict the labels for the test sets.\n",
    "\n",
    "y_pred = rfc.predict(X_test)"
   ]
  },
  {
   "cell_type": "code",
   "execution_count": 109,
   "id": "445805ad",
   "metadata": {},
   "outputs": [],
   "source": [
    "#Based on the test results, make predictions.\n",
    "\n",
    "accuracy = accuracy_score(y_test, y_pred)\n",
    "report = classification_report(y_test, y_pred)\n",
    "matrix = confusion_matrix(y_test, y_pred)\n",
    "precision = precision_score(y_test, y_pred, average='weighted')\n",
    "recall = recall_score(y_test, y_pred, average='weighted')\n",
    "f1 = f1_score(y_test, y_pred, average='weighted')"
   ]
  },
  {
   "cell_type": "code",
   "execution_count": 110,
   "id": "1c5f5178",
   "metadata": {},
   "outputs": [
    {
     "name": "stdout",
     "output_type": "stream",
     "text": [
      "Accuracy: 0.9239809034153507\n",
      "Confusion Matrix:\n",
      " [[233   0  19   0   1   1   7]\n",
      " [  0 117   0   0   0   0   0]\n",
      " [ 14   0 297   0   4   1   1]\n",
      " [  0   0   0 617   2   5  47]\n",
      " [  2   0   7   4 390   0   5]\n",
      " [  3   0   0  13   0 388   9]\n",
      " [  0   0   1  50   6   5 474]]\n",
      "Classification Report:\n",
      "               precision    recall  f1-score   support\n",
      "\n",
      "           0       0.92      0.89      0.91       261\n",
      "           1       1.00      1.00      1.00       117\n",
      "           2       0.92      0.94      0.93       317\n",
      "           3       0.90      0.92      0.91       671\n",
      "           4       0.97      0.96      0.96       408\n",
      "           5       0.97      0.94      0.95       413\n",
      "           6       0.87      0.88      0.88       536\n",
      "\n",
      "    accuracy                           0.92      2723\n",
      "   macro avg       0.94      0.93      0.93      2723\n",
      "weighted avg       0.92      0.92      0.92      2723\n",
      "\n",
      "Precision: 0.924537776774689\n",
      "Recall: 0.9239809034153507\n",
      "F1 score: 0.9241492265387962\n"
     ]
    }
   ],
   "source": [
    "#Examine the model's performance.\n",
    "\n",
    "print(\"Accuracy:\", accuracy)\n",
    "print(\"Confusion Matrix:\\n\", matrix)\n",
    "print(\"Classification Report:\\n\", report)\n",
    "print('Precision:', precision)\n",
    "print('Recall:', recall)\n",
    "print('F1 score:', f1)"
   ]
  },
  {
   "cell_type": "code",
   "execution_count": null,
   "id": "3186ae14",
   "metadata": {},
   "outputs": [],
   "source": []
  },
  {
   "cell_type": "code",
   "execution_count": null,
   "id": "c62aeb5e",
   "metadata": {},
   "outputs": [],
   "source": []
  }
 ],
 "metadata": {
  "kernelspec": {
   "display_name": "Python 3 (ipykernel)",
   "language": "python",
   "name": "python3"
  },
  "language_info": {
   "codemirror_mode": {
    "name": "ipython",
    "version": 3
   },
   "file_extension": ".py",
   "mimetype": "text/x-python",
   "name": "python",
   "nbconvert_exporter": "python",
   "pygments_lexer": "ipython3",
   "version": "3.9.13"
  }
 },
 "nbformat": 4,
 "nbformat_minor": 5
}
